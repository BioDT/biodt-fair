{
 "cells": [
  {
   "cell_type": "markdown",
   "metadata": {},
   "source": [
    "# Leipzig end-user workshop - Towards a FAIR dataset through RO-Crate, step-by-step."
   ]
  },
  {
   "cell_type": "markdown",
   "metadata": {},
   "source": [
    "Within BioDT, there is a wide variety of datasets and data sources at different levels of FAIR. While the overarching goal and benefits of turning them into FAIR Digital Objects (FDOs) might be already clear, *how* exactly to get there is probably not. This and other future notebooks aim at answering that question by providing concrete examples of how to increase the level of FAIRness of existing datasets, data sources and other digital objects.\n",
    "\n",
    "This notebook contains a simple starting guide on how to turn an existing dataset into an RO-Crate, creating appropriate metadata in the process. Part of this is taken from the [RO-Crate Documentation](https://www.researchobject.org/ro-crate/), using the most recent version of the RO-Crate specification (version 1.1).\n",
    "\n",
    "For this notebook, we'll use one of the data sources listed by the use case [4.1.4.2.1 Honey bee dynamics in agricultural landscapes](https://wiki.eduuni.fi/x/qdETEg), namely *\"D2: Agricultural land use (crop type)\"* (from the overview of available data table) the sub-page [Alien Plant Species Dynamics](https://wiki.eduuni.fi/x/OsoTEg). The dataset can be downloaded from the page following this link: [Land cover classification map of Germany's agricultural area based on Sentinel-2A data from 2016](https://hs.pangaea.de/Maps/Germany/Preidl-etal_2020/APiC_Agricultural-Land-Cover-Germany_RSE-2020.zip).\n",
    "\n",
    "The goal is that this can be replicated with other similar datasets, for example, your own dataset. For simplicity, we're assuming that the dataset is represented by a directory (which only contains the dataset files). However, other formats and types of data are possible, and one could develop a metadata description for a certain dataset independent of the actual files.\n",
    "\n",
    "*Note: the FDO specifications are technology independent, and therefore, different tools and formats can be used to achieve them. RO-Crate is one of the possible realisations of FDOs and is used here as an example. However, the main takeaway message should be about what is achieved in terms of FAIRness thanks to describing things with metadata.*"
   ]
  },
  {
   "cell_type": "markdown",
   "metadata": {},
   "source": [
    "## FAIR Principles\n",
    "As a reminder, below you can find the detailed [FAIR principles](https://www.go-fair.org/fair-principles/). As we build the RO-Crate, we will reference which of these principles we are achieving (and to what extent).\n",
    "\n",
    "### Findable\n",
    "F1. (Meta)data are assigned a globally unique and persistent identifier\n",
    "\n",
    "F2. Data are described with rich metadata (defined by R1 below)\n",
    "\n",
    "F3. Metadata clearly and explicitly include the identifier of the data they describe\n",
    "\n",
    "F4. (Meta)data are registered or indexed in a searchable resource\n",
    "\n",
    "### Accessible\n",
    "A1. (Meta)data are retrievable by their identifier using a standardised communications protocol\n",
    "\n",
    "> A1.1 The protocol is open, free, and universally implementable\n",
    "\n",
    "> A1.2 The protocol allows for an authentication and authorisation procedure, where necessary\n",
    "\n",
    "A2. Metadata are accessible, even when the data are no longer available\n",
    "\n",
    "\n",
    "### Interoperable\n",
    "I1. (Meta)data use a formal, accessible, shared, and broadly applicable language for knowledge representation\n",
    "\n",
    "I2. (Meta)data use vocabularies that follow FAIR principles\n",
    "\n",
    "I3. (Meta)data include qualified references to other (meta)data\n",
    "\n",
    "\n",
    "### Reusable\n",
    "R1. (Meta)data are richly described with a plurality of accurate and relevant attributes\n",
    "\n",
    "> R1.1. (Meta)data are released with a clear and accessible data usage license\n",
    "\n",
    "> R1.2. (Meta)data are associated with detailed provenance\n",
    "\n",
    "> R1.3. (Meta)data meet domain-relevant community standards\n"
   ]
  },
  {
   "cell_type": "markdown",
   "metadata": {},
   "source": [
    "## RO-Crate Metadata File\n",
    "[RO-Crate](https://www.researchobject.org/ro-crate/1.1/introduction.html) is a method for aggregating and describing research data with associated metadata. It relies on the JSON-LD format to express this metadata using linked data, describing data resources as well as contextual entities such as people, organizations, software and equipment as a series of linked JSON-LD objects.\n",
    "\n",
    "The core element of a RO-Crate is `ro-crate-metadata.json`, the *RO-Crate Metadata File*. This file is written using a specific JSON-LD syntax and contains structured metadata about the dataset as a whole, and optionally, about some or all of its files.\n",
    "\n",
    "The bare skeleton of the RO-Crate Metadata File is shown below, and must include the following:\n",
    "- A `\"@context\": \"https://w3id.org/ro/crate/1.1/context\"` element linking to the correct version of the RO-Crate specification used. This will map the metadata attributes used in this file to the definitions in the Schema.org vocabulary. In case we wanted to add our own definition of a metadata attribute, this would be the place to add it, but we won't be doing that here.\n",
    "- A `\"@graph\"` object describing all entities present in the RO-Crate as a flat list. This includes the RO-Crate Metadata File (`\"@id\": \"ro-crate-metadata.json\",`) itself and the dataset as a whole (`\"@id\": \"./\",`, or *Root Data Entity*), as well as all other elements cross-referenced using the `\"@id\"` identifier. Note that, as opposed to other typical JSON objects, all elements have a single entry in the `\"@graph\"` instead of being deeply nested."
   ]
  },
  {
   "cell_type": "code",
   "execution_count": 10,
   "metadata": {},
   "outputs": [
    {
     "data": {
      "text/plain": [
       "{'@context': 'https://w3id.org/ro/crate/1.1/context',\n",
       " '@graph': [{'@id': 'ro-crate-metadata.json',\n",
       "   '@type': 'CreativeWork',\n",
       "   'conformsTo': {'@id': 'https://w3id.org/ro/crate/1.1'},\n",
       "   'about': {'@id': './'}},\n",
       "  {'@id': './', '@type': 'Dataset'}]}"
      ]
     },
     "execution_count": 10,
     "metadata": {},
     "output_type": "execute_result"
    }
   ],
   "source": [
    "# The JSON-LD object consists of the '{}' brackets and everything contained between them (that's what would be written in ro-crate-metadata.json)\n",
    "{ \n",
    "    \"@context\": \"https://w3id.org/ro/crate/1.1/context\",\n",
    "    \"@graph\": [\n",
    "      {\n",
    "          \"@id\": \"ro-crate-metadata.json\",\n",
    "          \"@type\": \"CreativeWork\",\n",
    "          \"conformsTo\": {\"@id\": \"https://w3id.org/ro/crate/1.1\"},\n",
    "          \"about\": {\"@id\": \"./\"},\n",
    "      },\n",
    "      {\n",
    "          \"@id\": \"./\",\n",
    "          \"@type\": \"Dataset\"\n",
    "      }\n",
    "    ] \n",
    "}"
   ]
  },
  {
   "cell_type": "markdown",
   "metadata": {},
   "source": [
    "*Note: This notebook is intended as a very lightweight guide and not as an exhaustive description of all the rules for creating RO-Crates. We refer to the [official documentation](https://w3id.org/ro/crate/1.1) for the complete specification of RO-Crate.*"
   ]
  },
  {
   "cell_type": "markdown",
   "metadata": {},
   "source": [
    "## Adding basic information to the RO-Crate.\n",
    "As a first step, we can start adding some basic information about our dataset, such as the name, an identifier, a description, the date of publication, and a license. Since this information concerns the dataset as a whole, we add it as part of the Root Data Entity entry on the graph.\n",
    "\n",
    "### Contextual Entities\n",
    "Nonetheless, things like the author or the license are independent of this particular dataset and constitute their own *Contextual* entity. While linked to the Root Data Entity through the appropriate metadata fields, they should also be registered as part of the graph with a separate entry, possibly providing more details about them:"
   ]
  },
  {
   "cell_type": "code",
   "execution_count": null,
   "metadata": {},
   "outputs": [],
   "source": [
    "{\n",
    "    \"@context\": \"https://w3id.org/ro/crate/1.1/context\",\n",
    "    \"@graph\": [\n",
    "    \n",
    "      {\n",
    "          \"@id\": \"ro-crate-metadata.json\",\n",
    "          \"@type\": \"CreativeWork\",\n",
    "          \"conformsTo\": {\"@id\": \"https://w3id.org/ro/crate/1.1\"},\n",
    "          \"about\": {\"@id\": \"./\"}\n",
    "      },\n",
    "      {\n",
    "          \"@id\": \"./\",\n",
    "          \"@type\": \"Dataset\",\n",
    "          \"identifier\": \"https://doi.org/10.1594/PANGAEA.910837\",\n",
    "          \"name\": \"Land cover classification map of Germany's agricultural area based on Sentinel-2A data from 2016\",\n",
    "          \"description\": \"In this study we demonstrate that APiC, due to its data-driven nature, is a very flexible compositing and classification approach making efficient use of dense satellite time series in areas with frequent cloud coverage. Hence, regionalisation can be given greater focus in future broad-scale classifications in order to facilitate better integration of small-scale biophysical conditions and achieve even better results in detailed land cover mapping.\",\n",
    "          \"author\": [\n",
    "              {\"@id\": \"https://orcid.org/0009-0001-3717-9628\"},\n",
    "              {\"@id\": \"https://orcid.org/0000-0001-9657-8779\"},\n",
    "              {\"@id\": \"https://orcid.org/0000-0002-4761-3344\"}\n",
    "          ],\n",
    "          \"datePublished\": \"2020\",\n",
    "          \"license\": {\"@id\": \"https://creativecommons.org/licenses/by-sa/4.0/\"}\n",
    "      },\n",
    "      {\n",
    "          \"@id\": \"https://orcid.org/0009-0001-3717-9628\",\n",
    "          \"@type\": \"Person\",\n",
    "          \"name\": \"Sebastian Preidl\",\n",
    "          \"affiliation\": {\"@id\": \"http://ror.org/000h6jb29\"}\n",
    "      },\n",
    "      {\n",
    "          \"@id\": \"https://orcid.org/0000-0001-9657-8779\",\n",
    "          \"@type\": \"Person\",\n",
    "          \"name\": \"Maximilian Lange\",\n",
    "          \"affiliation\": {\"@id\": \"http://ror.org/000h6jb29\"}\n",
    "      },\n",
    "      {\n",
    "          \"@id\": \"https://orcid.org/0000-0002-4761-3344\",\n",
    "          \"@type\": \"Person\",\n",
    "          \"name\": \"Daniel Doktor\",\n",
    "          \"affiliation\": {\"@id\": \"http://ror.org/000h6jb29\"}\n",
    "      },\n",
    "      {\n",
    "          \"@id\": \"http://ror.org/000h6jb29\",\n",
    "          \"@type\": \"Organisation\",\n",
    "          \"name\": \"Helmholtz Centre for Environmental Research\",\n",
    "          \"url\": \"http://www.ufz.de/index.php?de=11385\"\n",
    "      },\n",
    "      {\n",
    "          \"@id\": \"https://creativecommons.org/licenses/by-sa/4.0/\",\n",
    "          \"@type\": \"CreativeWork\",\n",
    "          \"name\": \"Creative Commons Attribution Share Alike 4.0 International\"\n",
    "      }\n",
    "    ]\n",
    "}"
   ]
  },
  {
   "cell_type": "markdown",
   "metadata": {},
   "source": [
    "Just with this basic information, we've already checked off some FAIR principles: F1 (partially, since so far we are only providing identifiers for the metadata record, author and license), I1 (by following RO-Crate guidelines, which in turn follow other standards) and R1.1 (thanks to the CC license):\n",
    "\n",
    "> <span style=\"color:#0072B2\">F1. (Meta)data are assigned a globally unique and persistent identifier</span>\n",
    "\n",
    "> <span style=\"color:#009E73\">I1. (Meta)data use a formal, accessible, shared, and broadly applicable language for knowledge representation.</span>\n",
    "\n",
    "> <span style=\"color:#009E73\">R1.1. (Meta)data are released with a clear and accessible data usage license</span>\n",
    "\n",
    "Examples of other contextual entities (e.g. publishers, grants, places...) can be found on the official [RO-Crate documentation](https://www.researchobject.org/ro-crate/1.1/contextual-entities.html)."
   ]
  },
  {
   "cell_type": "markdown",
   "metadata": {},
   "source": [
    "## Adding files and subdirectories\n",
    "By downloading the dataset, we can explore the files and directory that compose it. The highest-level directory `APiC_Agricultural-Land-Cover-Germany_RSE-2020` will be the \\<RO-Crate root\\> directory, where the `ro-crate-metadata.json` will reside. Within the dataset root directory, there are several other files:\n",
    "```\n",
    "<RO-Crate root>/\n",
    "  |   ro-crate-metadata.json\n",
    "  |   preidl-etal-RSE-2020_land-cover-classification-germany-2016.tif\n",
    "  |   preidl-etal-RSE-2020_land-cover-classification-germany-2016.tif.aux.xml\n",
    "  |   geoanwendungen-des-bundes_nutzungsbedingungen.pdfIASpressure_LAND_20200502.xlsx\n",
    "```\n",
    "\n",
    "#### Data entities\n",
    "Files and directories contained within the \\<RO-Crate root\\> are considered *data entities*. Those should be registered as part of the dataset by linking them to the root directory (with `\"@id\": \"./\"`) with the field `\"hasPart\"`, where each file and directory is included through an identifier. Just like for the contextual entities, separate entries of the `\"@graph\"` should also  be added for them, where further details can be specified:"
   ]
  },
  {
   "cell_type": "code",
   "execution_count": null,
   "metadata": {},
   "outputs": [],
   "source": [
    "{ \n",
    "    \"@context\": [\n",
    "        \"https://w3id.org/ro/crate/1.1/context\",\n",
    "        {\n",
    "            \"coordinatePrecision\": \"http://rs.tdwg.org/dwc/terms/coordinatePrecision\"\n",
    "        }\n",
    "    ],\n",
    "    \"@graph\": [    \n",
    "      {\n",
    "          \"@id\": \"ro-crate-metadata.json\",\n",
    "          \"@type\": \"CreativeWork\",\n",
    "          \"conformsTo\": {\"@id\": \"https://w3id.org/ro/crate/1.1\"},\n",
    "          \"about\": {\"@id\": \"./\"}\n",
    "      },\n",
    "      {\n",
    "          \"@id\": \"./\",\n",
    "          \"@type\": \"Dataset\",\n",
    "          \"identifier\": \"https://doi.org/10.1594/PANGAEA.910837\",\n",
    "          \"name\": \"Land cover classification map of Germany's agricultural area based on Sentinel-2A data from 2016\",\n",
    "          \"description\": \"In this study we demonstrate that APiC, due to its data-driven nature, is a very flexible compositing and classification approach making efficient use of dense satellite time series in areas with frequent cloud coverage. Hence, regionalisation can be given greater focus in future broad-scale classifications in order to facilitate better integration of small-scale biophysical conditions and achieve even better results in detailed land cover mapping.\",\n",
    "          \"author\": [\n",
    "              {\"@id\": \"https://orcid.org/0009-0001-3717-9628\"},\n",
    "              {\"@id\": \"https://orcid.org/0000-0001-9657-8779\"},\n",
    "              {\"@id\": \"https://orcid.org/0000-0002-4761-3344\"}\n",
    "          ],\n",
    "          \"datePublished\": \"2020\",\n",
    "          \"keywords\": [\"compositing\", \"crop mapping\", \"land cover classification\", \"phenology\", \"random forest\", \"Sentinel-2\"],\n",
    "          \"isPartOf\": {\"@id\": \"https://doi.org/10.1016/j.rse.2020.111673\"},\n",
    "          \"hasPart\": [\n",
    "              {\"@id\": \"preidl-etal-RSE-2020_land-cover-classification-germany-2016.tif\"},\n",
    "              {\"@id\": \"preidl-etal-RSE-2020_land-cover-classification-germany-2016.tif.aux.xml\"},\n",
    "              {\"@id\": \"geoanwendungen-des-bundes_nutzungsbedingungen.pdf\"},\n",
    "          ],\n",
    "          \"spatialCoverage\": \"Median Latitude: 50.550000 * Median Longitude: 10.100000 * South-bound Latitude: 47.500000 * West-bound Longitude: 7.200000 * North-bound Latitude: 53.600000 * East-bound Longitude: 13.000000\",\n",
    "          \"coordinatePrecision\": \"10\",\n",
    "          \"mapProjection\": \"Lambert Azimuthal Equal Area\",\n",
    "          \"license\": {\"@id\": \"https://creativecommons.org/licenses/by-sa/4.0/\"},\n",
    "          \"contentSize\": \"136.1 MB\",\n",
    "      },\n",
    "      {\n",
    "          \"@id\": \"https://doi.org/10.1016/j.rse.2020.111673\",\n",
    "          \"@type\": \"ScholarlyArticle\",\n",
    "          \"name\": \"Introducing APiC for regionalised land cover mapping on the national scale using Sentinel-2A imagery\",\n",
    "          \"description\": \"In this study we demonstrate that APiC, due to its data-driven nature, is a very flexible compositing and classification approach making efficient use of dense satellite time series in areas with frequent cloud coverage. Hence, regionalisation can be given greater focus in future broad-scale classifications in order to facilitate better integration of small-scale biophysical conditions and achieve even better results in detailed land cover mapping.\",\n",
    "          \"author\": [\n",
    "              {\"@id\": \"https://orcid.org/0009-0001-3717-9628\"},\n",
    "              {\"@id\": \"https://orcid.org/0000-0001-9657-8779\"},\n",
    "              {\"@id\": \"https://orcid.org/0000-0002-4761-3344\"}\n",
    "          ],\n",
    "          \"datePublished\": \"2020\",\n",
    "      {\n",
    "          \"@id\": \"preidl-etal-RSE-2020_land-cover-classification-germany-2016.tif\",\n",
    "          \"@type\": [\"File\", \"MediaObject\"],\n",
    "          \"name\": \"GeoTIFF land cover map with class names and color table\",\n",
    "          \"description\": \"High resolution and thematically detailed land cover map in six landscape regions of Germany. It was produced using a highly automated pixel-based compositing and classification approach. The agricultural area of Germany was thus classified into a total of 19 land cover classes.\",\n",
    "          \"contentSize\": \"155.0 MB\",\n",
    "          \"encodingFormat\": \"image/tiff\"\n",
    "      },\n",
    "      {\n",
    "          \"@id\": \"preidl-etal-RSE-2020_land-cover-classification-germany-2016.tif.aux.xml\",\n",
    "          \"@type\": \"File\",\n",
    "          \"description\": \"List of the 19 land cover classes used for the land cover map.\",\n",
    "          \"contentSize\": \"24,6KB\",\n",
    "          \"encodingFormat\": \"text/xml\"\n",
    "      },\n",
    "      {\n",
    "          \"@id\": \"geoanwendungen-des-bundes_nutzungsbedingungen.pdf\",\n",
    "          \"@type\": [\"File\", \"CreativeWork\"],\n",
    "          \"name\": \"Terms of use for the use of federal geospatial applications\",\n",
    "          \"description\": \"These terms of use apply to the use of geobase data and geodata services from the surveying administrations of the federal states, which are made available to licensees for further use by federal agencies as part of maps or other federal products with a geo-related reference (geographical applications).\",\n",
    "          \"about\": {\"@id\": \"preidl-etal-RSE-2020_land-cover-classification-germany-2016.tif\"},\n",
    "          \"contentSize\": \"155.0 MB\",\n",
    "          \"encodingFormat\": \"application/pdf\"\n",
    "      },\n",
    "      {\n",
    "          \"@id\": \"https://orcid.org/0009-0001-3717-9628\",\n",
    "          \"@type\": \"Person\",\n",
    "          \"name\": \"Sebastian Preidl\",\n",
    "          \"affiliation\": {\"@id\": \"http://ror.org/000h6jb29\"}\n",
    "      },\n",
    "      {\n",
    "          \"@id\": \"https://orcid.org/0000-0001-9657-8779\",\n",
    "          \"@type\": \"Person\",\n",
    "          \"name\": \"Maximilian Lange\",\n",
    "          \"affiliation\": {\"@id\": \"http://ror.org/000h6jb29\"}\n",
    "      },\n",
    "      {\n",
    "          \"@id\": \"https://orcid.org/0000-0002-4761-3344\",\n",
    "          \"@type\": \"Person\",\n",
    "          \"name\": \"Daniel Doktor\",\n",
    "          \"affiliation\": {\"@id\": \"http://ror.org/000h6jb29\"}\n",
    "      },\n",
    "      {\n",
    "          \"@id\": \"http://ror.org/000h6jb29\",\n",
    "          \"@type\": \"Organisation\",\n",
    "          \"name\": \"Helmholtz Centre for Environmental Research\",\n",
    "          \"url\": \"http://www.ufz.de/index.php?de=11385\"\n",
    "      },\n",
    "      {\n",
    "          \"@id\": \"https://creativecommons.org/licenses/by-sa/4.0/\",\n",
    "          \"@type\": \"CreativeWork\",\n",
    "          \"name\": \"Creative Commons Attribution Share Alike 4.0 International\"\n",
    "      }\n",
    "    ]\n",
    "}"
   ]
  },
  {
   "cell_type": "markdown",
   "metadata": {},
   "source": [
    "Any included file must have the `\"@id\"` field with the path relative to \\<RO-Crate root\\> but also `\"@type\"` where `\"File\"` must be included (or `\"Dataset\"`, for directories). Other details (`\"description\"`, `\"spatialCoverage\"`, `\"encodingFormat\"`...) have been filled in by manual inspection of the file properties, metadata from the [repository entry where the data is hosted](https://doi.pangaea.de/10.1594/PANGAEA.910837) or the [associated publication](https://doi.org/10.1016/j.rse.2020.111673). \n",
    "Note that, as we are getting into the details, the metadata attributes to capture certain information are not that evident anymore. For example, that is the case for `\"spatialCoverage\"`, `\"coordinatePrecision\"`, and `\"mapProjection\"`. \n",
    "- `\"spatialCoverage\"` is an existing term from Schema.org that is fitting for that information, although there are better ways to capture it (i.e. using Geocoordinates).\n",
    "- `\"coordinatePrecision\"` is also an existing term, but from a different vocabulary: Darwin Core. Therefore, it needs to be added to the `\"@context\"` to be recognised as such.\n",
    "- `\"mapProjection\"` is a completely made up term, since none could be found on the [RO-Crate 1.1 context](https://www.researchobject.org/ro-crate/1.1/context.jsonld). In these cases, we can define our own and include them as described [in the documentation](https://www.researchobject.org/ro-crate/1.1/appendix/jsonld.html#adding-new-or-ad-hoc-vocabulary-terms) (but that's beyond the scope of this guide).\n",
    "\n",
    "This leads to not fully complying with principle I2, and not achieving R1.3:\n",
    "\n",
    "> <span style=\"color:#0072B2\">I2. (Meta)data use vocabularies that follow FAIR principles</span>\n",
    "\n",
    "> <span style=\"color:#D55E00\">R1.3. (Meta)data meet domain-relevant community standards</span>\n",
    "\n",
    "Still, as a first step to start capturing some information as metadata, is better than nothing. After looking into what (or if) community standards exist for this type of data, possibly in other domain-specific repositories, the metadata can be updated accordingly. In any case, this leads to a number of questions..."
   ]
  },
  {
   "cell_type": "markdown",
   "metadata": {},
   "source": [
    "#### Other related issues\n",
    "Datasets can contain thousands of files within many levels of depth. It is obviously unfeasible to include all of them in the `ro-crate-metadata.json` file, and indeed, it is not strictly necessary to include them as part of `ro-crate-metadata.json` for a valid RO-Crate implementation.\n",
    "Ideally, an RO-Crate should be self-describing and self-contained, and thus only the *necessary* information to describe a dataset should be added (the rest is optional). But then, where to draw the line between what is necessary and what is not? Concerning this guide, what's necessary depends on the nature of the dataset being worked on and is left to the judgement of the researchers.\n",
    "\n",
    "In any case, writing metadata directly in a text editor is an unlikely scenario. It was done here for illustrative purposes, but one of the big aspects of FAIR is *machine-actionability*, so the goal is to have most of the metadata automatically harvested from repositories, code executions, etc. And whenever new metadata has to be created, there will be tools and profiles to make that process more streamlined. For example, there are web RO-Crate editors like [Crate-O](https://language-research-technology.github.io/crate-o/#/) that allow to fill in the metadata according to predefined profiles. Such profiles can be understood as \"templates\" specifying what metadata needs to be included for a certain digital object in a certain context, for example, datasets in BioDT (which are currently being developed).\n",
    "\n",
    "\n",
    "While we captured some basic metadata about our example dataset, there are probably more details to be included. With that in mind, we can say that the principles F2 and R1 are, at best, only partially achieved:\n",
    "\n",
    "> <span style=\"color:#0072B2\">F2. Data are described with rich metadata</span>\n",
    "\n",
    "> <span style=\"color:#0072B2\">R1. (Meta)data are richly described with a plurality of accurate and relevant attributes</span>\n",
    "\n",
    "Nonetheless, because of the structure of the metadata file, it is clear which information refers to what data. Each contextual or data entity has an entry in the `\"@graph\"`, and all metadata (including other linked contextual/data entities) can be found or referenced from there.\n",
    "\n",
    "> <span style=\"color:#009E73\">F3. Metadata clearly and explicitly include the identifier of the data they describe</span>\n",
    "\n",
    "*(Note that they are relative paths instead of globally unique, persistent and resolvable identifiers, but that is covered by principle F1).*\n"
   ]
  },
  {
   "cell_type": "markdown",
   "metadata": {},
   "source": [
    "## Finishing up. What's next?\n",
    "This was a first pass aimed at collecting and organising some basic information in the form of an RO-Crate metadata file. As you can see, an important part of achieving FAIR revolves around having structured metadata and following certain community standards.\n",
    "\n",
    "There's still much more to do:\n",
    "- Some FAIR principles have not been tackled yet, mainly those concerning where the (meta)data will live and how it will be accessed (F4, A1, A1.1, A1.2, A2), but also regarding references to other (meta)data (I3) and provenance information (R1.2). Those are strongly dependent on the scientific domain and would require guides of their own, and so are left unconsidered here.\n",
    "- Particularly, the entries for data entities (files and directories) could be greatly extended with more information describing scientific aspects that were overlooked here for simplicity and lack of domain expertise.\n",
    "- There's also the packaging format. A simple way would be to bundle the RO-Crate as a ZIP file, but there are many other options. For example, [HDF5](https://www.hdfgroup.org/solutions/hdf5/) and [BagIT](https://datatracker.ietf.org/doc/rfc8493/) are more advanced options.\n",
    "- After packaging the RO-Crate, it should be uploaded to an appropriate repository and given its own persistent identifier (PID). Again, that's out of the scope for now.\n",
    "\n",
    "Last but not least, below you can find an estimation of the resulting FAIRness status."
   ]
  },
  {
   "cell_type": "markdown",
   "metadata": {
    "collapsed": false,
    "jp-MarkdownHeadingCollapsed": true,
    "jupyter": {
     "outputs_hidden": false
    }
   },
   "source": [
    "## FAIRness status\n",
    "*Note on colour code: Each colour represents a FAIRness assessment status: <span style=\"color:#009E73\">Yes</span>, <span style=\"color:#0072B2\">Partially</span>, <span style=\"color:#D55E00\">No</span>. Lack of colour means that the principle has not been evaluated. The colours have been picked to be colour-blindness friendly from a palette proposed by the [Wong 2011 article in Nature](https://www.nature.com/articles/nmeth.1618). The HEX colour code for green, blue, and orange are #009E73, #0072B2 and #D55E00, respectively.*\n",
    "\n",
    "### Findable\n",
    "<span style=\"color:#0072B2\">F1. (Meta)data are assigned a globally unique and persistent identifier</span>\n",
    "\n",
    "<span style=\"color:#0072B2\">F2. Data are described with rich metadata</span>\n",
    "\n",
    "<span style=\"color:#009E73\">F3. Metadata clearly and explicitly include the identifier of the data they describe</span>\n",
    "\n",
    "F4. (Meta)data are registered or indexed in a searchable resource\n",
    "\n",
    "### Accessible\n",
    "A1. (Meta)data are retrievable by their identifier using a standardised communications protocol\n",
    "\n",
    "> A1.1 The protocol is open, free, and universally implementable\n",
    "\n",
    "> A1.2 The protocol allows for an authentication and authorisation procedure, where necessary\n",
    "\n",
    "A2. Metadata are accessible, even when the data are no longer available\n",
    "\n",
    "### Interoperable\n",
    "<span style=\"color:#009E73\">I1. (Meta)data use a formal, accessible, shared, and broadly applicable language for knowledge representation.</span>\n",
    "\n",
    "<span style=\"color:#0072B2\">I2. (Meta)data use vocabularies that follow FAIR principles</span>\n",
    "\n",
    "I3. (Meta)data include qualified references to other (meta)data\n",
    "\n",
    "### Reusable\n",
    "<span style=\"color:#0072B2\">R1. (Meta)data are richly described with a plurality of accurate and relevant attributes</span>\n",
    "\n",
    "> <span style=\"color:#009E73\">R1.1. (Meta)data are released with a clear and accessible data usage license</span>\n",
    "\n",
    "> R1.2. (Meta)data are associated with detailed provenance\n",
    "\n",
    "> <span style=\"color:#D55E00\">R1.3. (Meta)data meet domain-relevant community standards</span>\n"
   ]
  },
  {
   "cell_type": "markdown",
   "metadata": {
    "collapsed": false,
    "jupyter": {
     "outputs_hidden": false
    }
   },
   "source": [
    "## Appendix: Working with RO-Crates in Python\n",
    "The Python-specific module `ro-crate-py` offers functionality to create RO-Crates directly from code. Below, you can find the code necessary to write some of the same metadata from the RO-Crate developed in the first part of the guide using `ro-crate-py`. _Note that the code below is taken from a different example and uses a different dataset_:"
   ]
  },
  {
   "cell_type": "code",
   "execution_count": null,
   "metadata": {
    "collapsed": false,
    "jupyter": {
     "outputs_hidden": false
    }
   },
   "outputs": [],
   "source": [
    "from rocrate.rocrate import ROCrate\n",
    "\n",
    "newCrate = ROCrate()\n",
    "root_directory = newCrate.add_directory('IAS')\n",
    "readme = newCrate.add_file(\"IAS/readme.txt\")\n",
    "\n",
    "from rocrate.model.person import Person\n",
    "author_orcid = \"https://orcid.org/0000-0002-9951-6765\"\n",
    "author = newCrate.add(Person(newCrate, author_orcid, properties={\n",
    "    \"name\": \"Grazia Zulian\",\n",
    "    \"affiliation\": \"European Commission Joint Research Centre Ispra: Ispra, Lombardia, IT\"\n",
    "}))\n",
    "\n",
    "from rocrate.model.contextentity import ContextEntity\n",
    "license_id = \"http://creativecommons.org/licenses/by/4.0/\"\n",
    "license = newCrate.add(ContextEntity(newCrate, license_id, properties={\n",
    "    \"@type\": \"CreativeWork\",\n",
    "    \"description\": \"This work is licensed under the Creative Commons Attribution 4.0 International License. To view a copy of this license, visit http://creativecommons.org/licenses/by/4.0/ or send a letter to Creative Commons, PO Box 1866, Mountain View, CA 94042, USA.\",\n",
    "    \"identifier\": \"http://creativecommons.org/licenses/by/4.0/\",\n",
    "    \"name\": \"Attribution 4.0 International (CC BY 4.0)\"\n",
    "}))\n",
    "\n",
    "# ...\n",
    "# TO BE COMPLETED\n",
    "# ..."
   ]
  },
  {
   "cell_type": "markdown",
   "metadata": {
    "collapsed": false,
    "jupyter": {
     "outputs_hidden": false
    }
   },
   "source": [
    "Additionally, below it is also shown how to load RO-Crates from disk using `ro-crate-py`, as well as some examples on how to use that information. Assuming we have a RO-Crate root directory named `IAS/` as discussed above, we can load the RO-Crate and show some basic information as follows."
   ]
  },
  {
   "cell_type": "code",
   "execution_count": null,
   "metadata": {
    "collapsed": false,
    "jupyter": {
     "outputs_hidden": false
    }
   },
   "outputs": [],
   "source": [
    "from rocrate.rocrate import ROCrate\n",
    "\n",
    "# Load RO-Crate\n",
    "existingCratePath = 'IAS'\n",
    "existingCrate = ROCrate(existingCratePath)\n",
    "\n",
    "# Print basic metadata\n",
    "print(f'Name: \\n\\t{existingCrate.name}')\n",
    "print(f'Type: \\n\\t{existingCrate.root_dataset.type}')\n",
    "print(f'Description: \\n\\t{existingCrate.description}')\n",
    "print(f'Author: \\n\\t{existingCrate.root_dataset.get(\"author\").get(\"name\")}')\n",
    "print(f'Date Published: \\n\\t{existingCrate.datePublished.date()}')\n",
    "print(f'License: \\n\\t{existingCrate.license.get(\"name\")}\\n')\n",
    "\n",
    "# Get info about the entities contained within the RO-Crate\n",
    "print('\\nAll entities in the RO-Crate (and their type):\\n')\n",
    "for entity in existingCrate.get_entities():\n",
    "    print(entity.id, entity.type)\n",
    "\n",
    "print('\\nData entities for which a description is available:\\n')\n",
    "for dataEntity in existingCrate.data_entities:\n",
    "    if dataEntity.get(\"description\") is not None:\n",
    "        print(f'Filename: {dataEntity.id}')\n",
    "        print(f'\\t{dataEntity.get(\"description\")}')"
   ]
  },
  {
   "cell_type": "markdown",
   "metadata": {
    "collapsed": false,
    "jupyter": {
     "outputs_hidden": false
    }
   },
   "source": [
    "This can be used to build more complex operations. For example, we could define a class for FDO objects which can be constructed from RO-Crates, and for which we can check whether all required attributes are set: "
   ]
  },
  {
   "cell_type": "code",
   "execution_count": null,
   "metadata": {
    "collapsed": false,
    "jupyter": {
     "outputs_hidden": false
    }
   },
   "outputs": [],
   "source": [
    "import os\n",
    "\n",
    "class FDO(object):\n",
    "    \"\"\"A basic FDO Python class.\"\"\"\n",
    "\n",
    "    def __init__(self, identifier, name, description, author, license, record=None):\n",
    "        self.identifier = identifier\n",
    "        self.name = name\n",
    "        self.description = description\n",
    "        self.author = author\n",
    "        self.license = license\n",
    "        self.record = record\n",
    "\n",
    "    @classmethod\n",
    "    def from_crate(cls, rocratepath):\n",
    "        \"\"\"Creates an FDO object from a RO-Crate file.\"\"\"\n",
    "\n",
    "        # Check that file/directory exists and load it\n",
    "        if os.path.exists(rocratepath):\n",
    "            rocrate = ROCrate(rocratepath)\n",
    "        else:\n",
    "            raise FileNotFoundError()\n",
    "\n",
    "        # Read properties\n",
    "        identifier = rocrate.root_dataset.get(\"identifier\")\n",
    "        name = rocrate.name\n",
    "        description = rocrate.description\n",
    "        author = rocrate.root_dataset.get(\"author\").get(\"name\")\n",
    "        license = rocrate.license.get(\"name\")\n",
    "\n",
    "        return FDO(identifier, name, description, author, license)\n",
    "\n",
    "    def is_valid_fdo(self):\n",
    "        \"\"\"Returns True if all required attributes are set.\"\"\"\n",
    "\n",
    "        return True if None in vars(self) else False\n",
    "\n",
    "\n",
    "myFDO = FDO.from_crate(existingCratePath)\n",
    "\n",
    "# Check\n",
    "print(f'Does myFDO comply with the FDO specifications? \\n\\t{myFDO.is_valid_fdo()}')"
   ]
  }
 ],
 "metadata": {
  "kernelspec": {
   "display_name": "Python 3 (ipykernel)",
   "language": "python",
   "name": "python3"
  },
  "language_info": {
   "codemirror_mode": {
    "name": "ipython",
    "version": 3
   },
   "file_extension": ".py",
   "mimetype": "text/x-python",
   "name": "python",
   "nbconvert_exporter": "python",
   "pygments_lexer": "ipython3",
   "version": "3.10.12"
  }
 },
 "nbformat": 4,
 "nbformat_minor": 4
}
