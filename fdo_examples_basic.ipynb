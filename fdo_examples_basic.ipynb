{
 "cells": [
  {
   "cell_type": "markdown",
   "source": [
    "# What is a FAIR Digital Object (FDO)?\n",
    "In this short notebook we will show the core idea behind FAIR Digital Objects (FDOs) through a couple of examples, one using a [DiSSCo](https://www.dissco.eu/) Handle record and another one using a [RO-Crate](https://www.researchobject.org/ro-crate/) example."
   ],
   "metadata": {
    "collapsed": false
   }
  },
  {
   "cell_type": "markdown",
   "source": [
    "## Example 1: DiSSCo Handle record\n",
    "At a basic level, an FDO is composed of an FDO Record, which consists of a set of metadata attributes providing some essential information about the digital object, such as its persistent identifier, its type, a description, the author, etc. A cropped capture of a DiSSCo FDO Record is shown below (the complete record can be accessed through [this link](https://hdl.handle.net/20.5000.1025/E9Z-GCP-FVH?noredirect)):\n",
    "![DiSSCo FDO Record](images/DiSSCo_FDO_Record_example_cropped.png)\n",
    "A key element of FDOs is the use of PIDs, not only for the FDO itself, but also for the things referenced in the metadata attributes. For example, the type of digital object can be referenced by name (`digitalObjectName`) but also by PID (`digitalObjectType`). This enables machine-actionability. Potentially, those things could be FDOs themselves (having their own FDO Record, with PID and metadata attributes) and could be interlinked to one another in this way:"
   ],
   "metadata": {
    "collapsed": false
   }
  },
  {
   "cell_type": "code",
   "execution_count": 42,
   "outputs": [
    {
     "name": "stdout",
     "output_type": "stream",
     "text": [
      "FDO Type:\n",
      "\t digitalSpecimen\n",
      "Digital Specimen Species name:\n",
      "\t Sorex araneus\n",
      "Institution hosting the physical specimen:\n",
      "\t Norwegian University of Science and Technology\n",
      "\n",
      "FDO Type PID:\n",
      "\t https://hdl.handle.net/21.T11148/894b1e6cad57e921764e\n"
     ]
    }
   ],
   "source": [
    "from fdo_definitions import DiSSCoFDO\n",
    "\n",
    "# For example, we could get the DiSSCo FDO Record from its PID, and with it, we can access some interesting metadata attributes\n",
    "exampleFDO = DiSSCoFDO(\"https://hdl.handle.net/20.5000.1025/E9Z-GCP-FVH?noredirect\")\n",
    "print(f'FDO Type:\\n\\t {exampleFDO.digitalObjectName}')\n",
    "print(f'Digital Specimen Species name:\\n\\t {exampleFDO.referentName}')\n",
    "print(f'Institution hosting the physical specimen:\\n\\t {exampleFDO.specimenHostName}\\n')\n",
    "\n",
    "# What's more, certain attributes have their own PID (they may constitute their own FDO)\n",
    "print(f'FDO Type PID:\\n\\t {exampleFDO.digitalObjectType}')"
   ],
   "metadata": {
    "collapsed": false
   }
  },
  {
   "cell_type": "code",
   "execution_count": 43,
   "outputs": [
    {
     "name": "stdout",
     "output_type": "stream",
     "text": [
      "FDO Type metadata:\n",
      "\t dict_keys(['description', 'name', 'provenance', 'representationAndSemantics', 'standards', 'status'])\n",
      "FDO Type description:\n",
      "\t A FDO acting as a digital twin on the Internet for a specific physical specimen in a museum collection\n",
      "FDO Type standard:\n",
      "\t openDS\n",
      "FDO Type provenance:\n",
      "\t {'authors': [{'details': 'https://ror.org/0566bfb96', 'identifiedUsing': 'ORCiD', 'name': 'https://orcid.org/0000-0001-8050-0299'}], 'creationDate': '2022-08-11T14:36:21.697Z', 'lastModificationDate': '2022-08-11T14:44:25.138Z'}\n"
     ]
    }
   ],
   "source": [
    "# If we access it, we can see the Type's own metadata attributes\n",
    "exampleFDOType = exampleFDO.get_fdo_type()\n",
    "print(f'FDO Type metadata:\\n\\t {exampleFDOType.keys()}')\n",
    "\n",
    "# We can get further information about the Type in this way\n",
    "print(f'FDO Type description:\\n\\t {exampleFDOType[\"description\"]}')\n",
    "print(f'FDO Type standard:\\n\\t {exampleFDOType[\"standards\"][0][\"name\"]}')\n",
    "print(f'FDO Type provenance:\\n\\t {exampleFDOType[\"provenance\"]}')"
   ],
   "metadata": {
    "collapsed": false
   }
  },
  {
   "cell_type": "code",
   "execution_count": 44,
   "outputs": [],
   "source": [
    "import webbrowser\n",
    "\n",
    "# Just like for the Type, some elements have their own PID we can follow on (uncomment the lines below to open the links in your browser)\n",
    "# webbrowser.open(exampleFDOType[\"provenance\"][\"authors\"][0][\"name\"])\n",
    "# webbrowser.open(exampleFDOType[\"provenance\"][\"authors\"][0][\"details\"])"
   ],
   "metadata": {
    "collapsed": false
   }
  },
  {
   "cell_type": "markdown",
   "source": [
    "This interlinking of digital objects through PIDs through structured metadata is one of the core ideas behind FDOs and forms the basis for achieving interoperability (and the rest of the FAIR principles).\n",
    "\n",
    "Nonetheless, FDO is a conceptual framework, which leads to many possible implementations. An example using RO-Crate is given below."
   ],
   "metadata": {
    "collapsed": false
   }
  },
  {
   "cell_type": "markdown",
   "source": [
    "## Example 2: RO-Crate"
   ],
   "metadata": {
    "collapsed": false
   }
  }
 ],
 "metadata": {
  "kernelspec": {
   "display_name": "Python 3",
   "language": "python",
   "name": "python3"
  },
  "language_info": {
   "codemirror_mode": {
    "name": "ipython",
    "version": 2
   },
   "file_extension": ".py",
   "mimetype": "text/x-python",
   "name": "python",
   "nbconvert_exporter": "python",
   "pygments_lexer": "ipython2",
   "version": "2.7.6"
  }
 },
 "nbformat": 4,
 "nbformat_minor": 0
}
